{
 "cells": [
  {
   "cell_type": "code",
   "execution_count": 1,
   "metadata": {},
   "outputs": [
    {
     "name": "stdout",
     "output_type": "stream",
     "text": [
      "              precision    recall  f1-score   support\n",
      "\n",
      "           1       1.00      1.00      1.00         1\n",
      "\n",
      "    accuracy                           1.00         1\n",
      "   macro avg       1.00      1.00      1.00         1\n",
      "weighted avg       1.00      1.00      1.00         1\n",
      "\n"
     ]
    }
   ],
   "source": [
    "import pandas as pd\n",
    "from sklearn.metrics import classification_report\n",
    "from sklearn.neighbors import KNeighborsClassifier\n",
    "\n",
    "complexity_dictionary = {\n",
    "    'n': 0,\n",
    "    'n_square': 1,\n",
    "    'logn': 2,\n",
    "    'nlogn': 3,\n",
    "    'sqrtn': 4,\n",
    "    'n_cube': 5,\n",
    "    'n_squarelogn': 6,\n",
    "    '1': 7,\n",
    "    'logn_square': 8\n",
    "}\n",
    "\n",
    "data_csv = pd.read_csv('base_dados/finalFeatureData.csv').dropna()\n",
    "X = data_csv.drop(columns=['complexity', 'file_name'])\n",
    "Y = data_csv.complexity\n",
    "\n",
    "knn = KNeighborsClassifier()\n",
    "knn.fit(X, Y)\n",
    "\n",
    "X_teste = [[0, 0, 0, 0, 0, 0, 0, 0, 0, 0, 11, 1, 0, 11]]\n",
    "\n",
    "resultado = knn.predict(X_teste)\n",
    "print(classification_report([['1']], resultado))\n"
   ]
  }
 ],
 "metadata": {
  "kernelspec": {
   "display_name": "Python 3 (ipykernel)",
   "language": "python",
   "name": "python3"
  },
  "language_info": {
   "codemirror_mode": {
    "name": "ipython",
    "version": 3
   },
   "file_extension": ".py",
   "mimetype": "text/x-python",
   "name": "python",
   "nbconvert_exporter": "python",
   "pygments_lexer": "ipython3",
   "version": "3.9.6"
  }
 },
 "nbformat": 4,
 "nbformat_minor": 1
}
